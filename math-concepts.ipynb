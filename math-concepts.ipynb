{
 "cells": [
  {
   "cell_type": "markdown",
   "metadata": {},
   "source": [
    "# Math Concepts\n",
    "\n",
    "This notebook was automatically generated from the Algorithms for Optimization source code. Each cell generates a figure from the original text. While this code is not optimized for use in lectures, we provide it here to be adapted for such projects. We hope you find it useful."
   ]
  },
  {
   "cell_type": "code",
   "execution_count": null,
   "metadata": {
    "collapsed": true
   },
   "outputs": [],
   "source": [
    "include(\"support_code.jl\");"
   ]
  },
  {
   "cell_type": "code",
   "execution_count": null,
   "metadata": {
    "collapsed": true
   },
   "outputs": [],
   "source": [
    "\n",
    "p = let\n",
    "\tf = x -> cos(x) + x + 10x^1.5 + 3x^2\n",
    "\tf0 = x -> 110abs(cos(x))\n",
    "\tf1 = x -> 16x^1.5\n",
    "\tf2 = x -> 12x^2\n",
    "\tf3 = x -> 6x^3\n",
    "\n",
    "\tg = GroupPlot(2, 1, groupStyle=\"horizontal sep=1cm\")\n",
    "\ta, b = 0, 2\n",
    "\tpush!(g,\n",
    "\t\tAxis([\n",
    "\t    \tPlots.Linear(f, (a, b), style=\"solid, thick, black, mark=none\"),\n",
    "\t    \t# Plots.Linear(f0, (a, b), style=\"solid, mark=none, pastelGreen\"),\n",
    "        \tPlots.Linear(f1, (a, b), style=\"solid, mark=none, pastelBlue\"),\n",
    "        \tPlots.Linear(f2, (a, b), style=\"solid, mark=none, pastelPurple\"),\n",
    "        \tPlots.Linear(f3, (a, b), style=\"solid, mark=none, pastelSeaGreen\"),\n",
    "        ], xmin=a, xmax=b, xlabel=L\"x\", width=\"6cm\")\n",
    "\t)\n",
    "\n",
    "\ta,b = 1,1000\n",
    "\tpush!(g,\n",
    "\t\tAxis([\n",
    "\t    \tPlots.Linear(f, (a, b),  style=\"solid, thick, black, mark=none\", legendentry=L\"f(x)\"),\n",
    "        \t# Plots.Linear(f0, (a, b), style=\"solid, mark=none, pastelGreen\", legendentry=L\"110|\\cos(x)|\"),\n",
    "        \tPlots.Linear(f1, (a, b), style=\"solid, mark=none, pastelBlue\", legendentry=L\"16x^{3/2}\"),\n",
    "        \tPlots.Linear(f2, (a, b), style=\"solid, mark=none, pastelPurple\", legendentry=L\"12x^2\"),\n",
    "        \tPlots.Linear(f3, (a, b), style=\"solid, mark=none, pastelSeaGreen\", legendentry=L\"6x^3\"),\n",
    "        ], xmin=a, xmax=b, xlabel=L\"x\", width=\"6cm\", style=\"xmode=log, ymode=log, legend style={at={(-0.11,-0.27)},anchor=north,legend columns=5}\")\n",
    "\t)\n",
    "\tg\n",
    "end\n",
    "\n",
    "plot(p)"
   ]
  },
  {
   "cell_type": "code",
   "execution_count": null,
   "metadata": {
    "collapsed": true
   },
   "outputs": [],
   "source": [
    "\n",
    "p = let\n",
    "\tf = x -> cos(x)\n",
    "\tf′ = x -> -sin(x)\n",
    "\tf′′ = x ->-cos(x)\n",
    "\tf′′′ = x ->sin(x)\n",
    "\tf′′′′ = x ->cos(x)\n",
    "\tf′′′′′ = x ->-sin(x)\n",
    "\n",
    "\tp = 1.0\n",
    "\ta = p-5.0\n",
    "\tb = p+5.0\n",
    "\n",
    "\ttaylor0 = x -> f(p)\n",
    "\ttaylor1 = x -> f(p) + f′(p)*(x-p)\n",
    "\ttaylor2 = x -> f(p) + f′(p)*(x-p) + f′′(p)*(x-p)^2/2\n",
    "\ttaylor3 = x -> f(p) + f′(p)*(x-p) + f′′(p)*(x-p)^2/2 + f′′′(p)*(x-p)^3/6\n",
    "\ttaylor4 = x -> f(p) + f′(p)*(x-p) + f′′(p)*(x-p)^2/2 + f′′′(p)*(x-p)^3/6 + f′′′′(p)*(x-p)^4/24\n",
    "\ttaylor5 = x -> f(p) + f′(p)*(x-p) + f′′(p)*(x-p)^2/2 + f′′′(p)*(x-p)^3/6 + f′′′′(p)*(x-p)^4/24 + f′′′′′(p)*(x-p)^5/120\n",
    "\n",
    "\tx_arr = collect(range(a, stop=b, length=151))\n",
    "\n",
    "\tAxis([\n",
    "\t    Plots.Linear(x_arr, f.(x_arr), style=\"solid, thick, black, mark=none\", legendentry=L\"\\cos(x)\"),\n",
    "        Plots.Linear(x_arr, taylor0.(x_arr), style=\"solid, mark=none\", legendentry=\"0th degree\"),\n",
    "        Plots.Linear(x_arr, taylor1.(x_arr), style=\"solid, mark=none\", legendentry=\"1st degree\"),\n",
    "        Plots.Linear(x_arr, taylor2.(x_arr), style=\"solid, mark=none\", legendentry=\"2nd degree\"),\n",
    "        Plots.Linear(x_arr, taylor3.(x_arr), style=\"solid, mark=none\", legendentry=\"3rd degree\"),\n",
    "        Plots.Linear(x_arr, taylor4.(x_arr), style=\"solid, mark=none\", legendentry=\"4th degree\"),\n",
    "        Plots.Linear(x_arr, taylor5.(x_arr), style=\"solid, mark=none\", legendentry=\"5th degree\"),\n",
    "        Plots.Scatter([p], [f(p)], style=\"solid, mark=*, mark size=1, mark options={draw=none, fill=black}\"),\n",
    "        ], xmin=a, xmax=b, ymin=-3, ymax=3, xlabel=L\"x\", width=\"10cm\", height=\"8cm\", style=\"legend columns=1, legend pos=outer north east, cycle list name = pastelcolors\")\n",
    "end\n",
    "\n",
    "plot(p)"
   ]
  },
  {
   "cell_type": "code",
   "execution_count": null,
   "metadata": {
    "collapsed": true
   },
   "outputs": [],
   "source": [
    "using Distributions\n",
    "\n",
    "p = let\n",
    "\n",
    "\tN = Normal(0.0,1.0)\n",
    "\n",
    "\tAxis(Plots.Linear(x->pdf(N, x), (-3,3), style=\"black,solid,mark=none\"),\n",
    "\t\t xmin=-3, xmax=3, ymin=0, ymax=0.6, width=\"9cm\",\n",
    "\t\t xlabel=L\"x\", ylabel=L\"p(x\\mid \\mu, \\sigma)\",\n",
    "\t\t style=\"xtick={-1,0,1}, ytick=\\\\empty, xticklabels={\\$\\\\mu-\\\\sigma\\$,\\$\\\\mu\\$,\\$\\\\mu+\\\\sigma\\$}, xticklabel style={text height=2ex}\",\n",
    "\t\t )\n",
    "end\n",
    "\n",
    "plot(p)"
   ]
  }
 ],
 "metadata": {
  "kernelspec": {
   "display_name": "Julia 1.5.1",
   "language": "julia",
   "name": "julia-1.5"
  },
  "language_info": {
   "file_extension": ".jl",
   "mimetype": "application/julia",
   "name": "julia",
   "version": "1.5.1"
  }
 },
 "nbformat": 4,
 "nbformat_minor": 2
}
