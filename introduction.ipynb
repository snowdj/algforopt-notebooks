{
 "cells": [
  {
   "cell_type": "markdown",
   "metadata": {},
   "source": [
    "# Introduction\n",
    "\n",
    "This notebook was automatically generated from the Algorithms for Optimization source code. Each cell generates a figure from the original text. While this code is not optimized for use in lectures, we provide it here to be adapted for such projects. We hope you find it useful."
   ]
  },
  {
   "cell_type": "code",
   "execution_count": null,
   "metadata": {
    "collapsed": true
   },
   "outputs": [],
   "source": [
    "include(\"support_code.jl\");"
   ]
  },
  {
   "cell_type": "code",
   "execution_count": null,
   "metadata": {
    "collapsed": true
   },
   "outputs": [],
   "source": [
    "\n",
    "p = let\n",
    "\tf = (x,y) -> (1-x)^2 + 5*(y - x^2)^2\n",
    "\tAxis([Plots.Contour(f, (-2,2), (-2,2), levels=[1,2,3,5,10,20,50,100]),\n",
    "\t\t  Plots.Scatter([1], [1], style=\"black, solid, mark=*, mark size = 1, mark options={draw=black}\"),\n",
    "\t\t  ], width=\"9cm\", height=\"9cm\", xlabel=L\"x_1\", ylabel=L\"x_2\", style=\"view={0}{90}, contour/labels=false\"\n",
    "\t)\n",
    "end\n",
    "\n",
    "plot(p)"
   ]
  },
  {
   "cell_type": "code",
   "execution_count": null,
   "metadata": {
    "collapsed": true
   },
   "outputs": [],
   "source": [
    "\tp = let\n",
    "\t\txdom = (-2.5,2.5)\n",
    "\t\tydom = (-2.5,2.5)\n",
    "\n",
    "\t\tg = GroupPlot(2,1,groupStyle=\"horizontal sep=1.5cm, ylabels at=edge left\",\n",
    "                  \t  style=\"width=5.25cm, xlabel=\\$x_1\\$, ylabel=\\$x_2\\$, xmin=$(xdom[1]), xmax=$(xdom[2]), ymin=$(ydom[1]), ymax=$(ydom[2])\")\n",
    "\n",
    "\t\tf = (x,y) -> x^2 - y^2\n",
    "\n",
    "\t\tc1 = x -> -sqrt(2 + x^2)\n",
    "\t\tc2 = x -> -sqrt(4 + x^2)\n",
    "\t\tc3 = y ->  sqrt(2 + y^2)\n",
    "\t\tc4 = y ->  sqrt(4 + y^2)\n",
    "\n",
    "\t\txs = range(xdom[1],stop=xdom[2],length=51)\n",
    "\t\txs3 = range(-2, stop=0.5, length=41)\n",
    "\t\txs4 = range(-1.5, stop=0, length=41)\n",
    "\n",
    "\t\tpush!(g,\n",
    "\t\t\tAxis(\n",
    "\t\t\t\t[\n",
    "\t\t\t\t\tPlots.Command(\"\"\"\n",
    "\t\t\t\t\t    \\\\addplot3[patch,patch refines=3,\n",
    "\t\t\t\t\t\t\tshader=faceted interp,\n",
    "\t\t\t\t\t\t\tpatch type=biquadratic]\n",
    "\t\t\t\t\t    \ttable[z expr=x^2-y^2]\n",
    "\t\t\t\t\t    {\n",
    "\t\t\t\t\t        x  y\n",
    "\t\t\t\t\t        -2.5 -2.5\n",
    "\t\t\t\t\t        2.5  -2.5\n",
    "\t\t\t\t\t        2.5  2.5\n",
    "\t\t\t\t\t        -2.5 2.5\n",
    "\t\t\t\t\t        0  -2.5\n",
    "\t\t\t\t\t        2.5  0\n",
    "\t\t\t\t\t        0  2.5\n",
    "\t\t\t\t\t        -2.5 0\n",
    "\t\t\t\t\t        0  0\n",
    "\t\t\t\t\t    };\n",
    "\t\t\t\t\t\"\"\"),\n",
    "\t\t\t\t\tPlots.Linear3([-2.5,0.7],[-2.5,0.7],[0,0], style=\"solid, white, mark=none\"),\n",
    "\t\t\t\t\tPlots.Linear3([-1.5,2.5],[1.5,-2.5],[0,0], style=\"solid, white, mark=none\"),\n",
    "\t\t\t\t\tPlots.Linear3(xs,[c1(x) for x in xs],fill(-2, length(xs)), style=\"solid, white, mark=none\"),\n",
    "\t\t\t\t\tPlots.Linear3(xs,[c2(x) for x in xs],fill(-4, length(xs)), style=\"solid, white, mark=none\"),\n",
    "\t\t\t\t\tPlots.Linear3([ c3(x) for x in xs3], xs3, fill( 2, length(xs3)), style=\"solid, white, mark=none\"),\n",
    "\t\t\t\t\tPlots.Linear3([ c4(x) for x in xs4], xs4, fill( 4, length(xs4)), style=\"solid, white, mark=none\"),\n",
    "\t\t\t\t\tPlots.Linear3([-c3(x) for x in xs], xs, fill( 2, length(xs)), style=\"solid, white, mark=none\"),\n",
    "\t\t\t\t\tPlots.Linear3([-c4(x) for x in xs], xs, fill( 4, length(xs)), style=\"solid, white, mark=none\"),\n",
    "\t\t\t\t]\n",
    "\t\t\t)\n",
    "\t\t)\n",
    "\t\t# push!(g,\n",
    "\t\t# \tAxis(Plots.Image(f, xdom, ydom, xbins=600, ybins=600, colormap = pasteljet, colorbar = false),\n",
    "\t\t# \t     xmin=xdom[1], xmax=xdom[2], ymin=ydom[1], ymax=ydom[2], width=\"5.25cm\", height=\"5.25cm\", style=\"view={0}{90}\", xlabel=L\"x_1\", ylabel=L\"x_2\")\n",
    "\t\t# )\n",
    "\t\tpush!(g,\n",
    "\t\t\tAxis(Plots.Contour(f, xdom, ydom, xbins=100, ybins=100, levels=[-4,-2,0,2,4]),\n",
    "\t\t\t     style=\"axis equal, height=5.25cm, view={0}{90}\")\n",
    "\t\t)\n",
    "\n",
    "\t\tg\n",
    "\tend\n",
    "\n",
    "\tplot(p)"
   ]
  }
 ],
 "metadata": {
  "kernelspec": {
   "display_name": "Julia 1.5.1",
   "language": "julia",
   "name": "julia-1.5"
  },
  "language_info": {
   "file_extension": ".jl",
   "mimetype": "application/julia",
   "name": "julia",
   "version": "1.5.1"
  }
 },
 "nbformat": 4,
 "nbformat_minor": 2
}
