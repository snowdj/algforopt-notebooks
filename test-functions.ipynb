{
 "cells": [
  {
   "cell_type": "markdown",
   "metadata": {},
   "source": [
    "# Test Functions\n",
    "\n",
    "This notebook was automatically generated from the Algorithms for Optimization source code. Each cell generates a figure from the original text. While this code is not optimized for use in lectures, we provide it here to be adapted for such projects. We hope you find it useful."
   ]
  },
  {
   "cell_type": "code",
   "execution_count": null,
   "metadata": {
    "collapsed": true
   },
   "outputs": [],
   "source": [
    "include(\"support_code.jl\");"
   ]
  },
  {
   "cell_type": "code",
   "execution_count": null,
   "metadata": {
    "collapsed": true
   },
   "outputs": [],
   "source": [
    "p = let\n",
    "\tfunction ackley(x, a=20, b=0.2, c=2π)\n",
    "\t\td = length(x)\n",
    "\t\treturn -a*exp(-b*sqrt(sum(x.^2)/d)) -\n",
    "\t\t          exp(sum(cos.(c*xi) for xi in x)/d) + a + ℯ\n",
    "\tend\n",
    "\n",
    "\txdomain = (-30, 30)\n",
    "\tydomain = (-30, 30)\n",
    "\n",
    "\tplots = Plots.Plot[]\n",
    "\tpush!(plots, Plots.Image((x,y)->ackley([x,y]), xdomain, ydomain, xbins=600, ybins=600, colormap = pasteljet, colorbar = false))\n",
    "\tAxis(plots, width=\"8cm\", height=\"8cm\", xlabel=L\"x_1\", ylabel=L\"x_2\", style=\"axis equal, view={0}{90}\")\n",
    "end\n",
    "\n",
    "plot(p)"
   ]
  },
  {
   "cell_type": "code",
   "execution_count": null,
   "metadata": {
    "collapsed": true
   },
   "outputs": [],
   "source": [
    "p = let\n",
    "\tbooth(x) = (x[1]+2x[2]-7)^2 + (2x[1]+x[2]-5)^2\n",
    "\n",
    "\txdomain = (-10, 10)\n",
    "\tydomain = (-10, 10)\n",
    "\n",
    "\tplots = Plots.Plot[]\n",
    "\tpush!(plots, Plots.Contour(booth, xdomain, ydomain, style=\"width=\\\\columnwidth\", xbins=100, ybins=100, levels=[0.5,2,5,10,20,50,100,500,1000]))\n",
    "\tAxis(plots, width=\"8cm\", height=\"8cm\", xlabel=L\"x_1\", ylabel=L\"x_2\", style=\"contour/labels=false, axis equal, view={0}{90}\")\n",
    "end\n",
    "\n",
    "plot(p)"
   ]
  },
  {
   "cell_type": "code",
   "execution_count": null,
   "metadata": {
    "collapsed": true
   },
   "outputs": [],
   "source": [
    "\n",
    "p = let\n",
    "\tbranin(x; a=1, b=5.1/(4π^2), c=5/π, r=6, s=10, t=1/(8π)) = a*(x[2] - b*x[1]^2 + c*x[1] - r)^2 + s*(1-t)*cos(x[1]) + s\n",
    "\n",
    "\txdomain = (-2π, 6π)\n",
    "\tydomain = ( -π, 7π)\n",
    "\n",
    "\tplots = Plots.Plot[]\n",
    "\tpush!(plots, Plots.Contour(branin, xdomain, ydomain, levels=[1,2,3,5,10,20,50,100], style=\"width=\\\\columnwidth\", xbins=100, ybins=100))\n",
    "\tAxis(plots, width=\"8cm\", height=\"8cm\", xlabel=L\"x_1\", ylabel=L\"x_2\", style=\"contour/labels=false, axis equal, view={0}{90}\")\n",
    "end\n",
    "\n",
    "plot(p)"
   ]
  },
  {
   "cell_type": "code",
   "execution_count": null,
   "metadata": {
    "collapsed": true
   },
   "outputs": [],
   "source": [
    "using LinearAlgebra\n",
    "p = let\n",
    "\tkochenderfer(x; a=1, b=1, c=4) = a*norm(x) + b*sin(c*atan(x[2], x[1]))\n",
    "\n",
    "\txdomain = ( -3, 3)\n",
    "\tydomain = ( -3, 3)\n",
    "\n",
    "\tplots = Plots.Plot[]\n",
    "\tpush!(plots, Plots.Contour(kochenderfer, xdomain, ydomain, levels=collect(-4:4), style=\"width=\\\\columnwidth\", xbins=101, ybins=101))\n",
    "\tAxis(plots, width=\"8cm\", height=\"8cm\", xlabel=L\"x_1\", ylabel=L\"x_2\", style=\"contour/labels=false, axis equal, view={0}{90}\")\n",
    "end\n",
    "\n",
    "plot(p)"
   ]
  },
  {
   "cell_type": "code",
   "execution_count": null,
   "metadata": {
    "collapsed": true
   },
   "outputs": [],
   "source": [
    "p = let\n",
    "michalewicz(x; m=10) = -sum(sin(v)*sin(i*v^2/π)^(2m) for (i,v) in enumerate(x))\n",
    "\n",
    "xdomain = (0, 4)\n",
    "ydomain = (0, 4)\n",
    "\n",
    "plots = Plots.Plot[]\n",
    "# push!(plots, Plots.Contour(michalewicz, xdomain, ydomain, levels=[-1.8, -1.6, -1.4, -1.2, -1.0, -0.8, -0.6, -0.4, -0.2], style=\"width=\\\\columnwidth\", xbins=101, ybins=101))\n",
    "# Axis(plots, width=\"8cm\", height=\"8cm\", xlabel=L\"x_1\", ylabel=L\"x_2\", style=\"contour/labels=false, axis equal, view={0}{90}\")\n",
    "Axis(Plots.Image((x,y)->michalewicz([x,y]), xdomain, ydomain, xbins=600, ybins=600, colormap = pasteljet, colorbar = false),\n",
    "xmin=xdomain[1], xmax=xdomain[2], ymin=ydomain[1], ymax=ydomain[2], width=\"8cm\", height=\"8cm\", style=\"view={0}{90}\", xlabel=L\"x_1\", ylabel=L\"x_2\")\n",
    "end\n",
    "\n",
    "plot(p)"
   ]
  },
  {
   "cell_type": "code",
   "execution_count": null,
   "metadata": {
    "collapsed": true
   },
   "outputs": [],
   "source": [
    "p = let\n",
    "\trosenbrock(x; a=1, b=5) = (a-x[1])^2 + b*(x[2] - x[1]^2)^2\n",
    "\n",
    "\txdomain = (-2, 2)\n",
    "\tydomain = (-2, 2)\n",
    "\n",
    "\tplots = Plots.Plot[]\n",
    "\tpush!(plots, Plots.Contour(rosenbrock, xdomain, ydomain, levels=[1,2,3,5,10,20,50,100], style=\"width=\\\\columnwidth\", xbins=100, ybins=100))\n",
    "\tAxis(plots, width=\"8cm\", height=\"8cm\", xlabel=L\"x_1\", ylabel=L\"x_2\", style=\"contour/labels=false, axis equal, view={0}{90}\")\n",
    "end\n",
    "\n",
    "plot(p)"
   ]
  },
  {
   "cell_type": "code",
   "execution_count": null,
   "metadata": {
    "collapsed": true
   },
   "outputs": [],
   "source": [
    "p = let\n",
    "\twheeler(x, a=1.5) = -exp(-(x[1]*x[2] - a)^2 -(x[2]-a)^2)\n",
    "\n",
    "\txdom = (-8,25)\n",
    "\tydom = (-3,6)\n",
    "\n",
    "\tAxis(Plots.Image((x,y)->wheeler([x,y]), xdom, ydom, xbins=1200, ybins=480, colormap = pasteljet, colorbar = false),\n",
    "\t     xmin=xdom[1], xmax=xdom[2], ymin=ydom[1], ymax=ydom[2], width=\"12cm\", height=\"4.8cm\", style=\"view={0}{90}\", xlabel=L\"x_1\", ylabel=L\"x_2\")\n",
    "end\n",
    "\n",
    "plot(p)"
   ]
  },
  {
   "cell_type": "code",
   "execution_count": null,
   "metadata": {
    "collapsed": true
   },
   "outputs": [],
   "source": [
    "p = let\n",
    "\n",
    "\tf = x -> -exp(-(x[1]*x[2] - 1.5)^2 -(x[2]-1.5)^2)\n",
    "\n",
    "\txdomain = (0, 3)\n",
    "\tydomain = (0, 3)\n",
    "\n",
    "\tp_contour = Plots.Contour(f, xdomain, ydomain, style=\"width=\\\\columnwidth\", xbins=151, ybins=151) # , levels=[-15,-10,-5,-1,0,0.5,1,1.5,2,2.5,3]\n",
    "\n",
    "\tplots = Plots.Plot[]\n",
    "\tpush!(plots, p_contour)\n",
    "\tax = Axis(plots, ymin=0, xmin=0, ymax=3, xmax=3, width=\"9cm\", height=\"9cm\", xlabel=L\"x_1\", ylabel=L\"x_2\", style=\"contour/labels=false, axis equal, view={0}{90}\")\n",
    "end\n",
    "\n",
    "plot(p)"
   ]
  }
 ],
 "metadata": {
  "kernelspec": {
   "display_name": "Julia 1.5.1",
   "language": "julia",
   "name": "julia-1.5"
  },
  "language_info": {
   "file_extension": ".jl",
   "mimetype": "application/julia",
   "name": "julia",
   "version": "1.5.1"
  }
 },
 "nbformat": 4,
 "nbformat_minor": 2
}
