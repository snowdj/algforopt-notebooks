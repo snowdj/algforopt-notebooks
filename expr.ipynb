{
 "cells": [
  {
   "cell_type": "markdown",
   "metadata": {},
   "source": [
    "# Expr\n",
    "\n",
    "This notebook was automatically generated from the Algorithms for Optimization source code. Each cell generates a figure from the original text. While this code is not optimized for use in lectures, we provide it here to be adapted for such projects. We hope you find it useful."
   ]
  },
  {
   "cell_type": "code",
   "execution_count": null,
   "metadata": {
    "collapsed": true
   },
   "outputs": [],
   "source": [
    "include(\"support_code.jl\");"
   ]
  },
  {
   "cell_type": "code",
   "execution_count": null,
   "metadata": {
    "collapsed": true
   },
   "outputs": [],
   "source": [
    "    abstract type SelectionMethod end\n",
    "    abstract type CrossoverMethod end\n",
    "    abstract type MutationMethod end\n",
    "\n",
    "    struct TruncationSelection <: SelectionMethod\n",
    "        k::Int\n",
    "    end"
   ]
  },
  {
   "cell_type": "code",
   "execution_count": null,
   "metadata": {
    "collapsed": true
   },
   "outputs": [],
   "source": [
    "    struct RouletteWheelSelection <: SelectionMethod end"
   ]
  },
  {
   "cell_type": "code",
   "execution_count": null,
   "metadata": {
    "collapsed": true
   },
   "outputs": [],
   "source": [
    "        using ExprRules\n",
    "        using TreeView\n",
    "        using Distributions\n",
    "        using Random\n",
    "\n",
    "        struct TreeCrossover <: CrossoverMethod\n",
    "            grammar::Grammar\n",
    "            max_depth::Int\n",
    "        end\n",
    "        struct TreeMutation <: MutationMethod\n",
    "            grammar::Grammar\n",
    "            p::Float64\n",
    "        end\n",
    "\n",
    "        g = let\n",
    "\n",
    "            grammar = @grammar begin\n",
    "                R = |(1:9)\n",
    "                R = R + R\n",
    "                R = R - R\n",
    "                R = R / R\n",
    "                R = R * R\n",
    "            end\n",
    "\n",
    "            function select(T::TruncationSelection, y)\n",
    "                p = sortperm(y)\n",
    "                return [p[rand(1:T.k, 2)] for i in y]\n",
    "            end\n",
    "            function select(::RouletteWheelSelection, y)\n",
    "                y = maximum(y) - y\n",
    "                cat = Categorical(normalize(y, 1))\n",
    "                return [rand(cat, 2) for i in y]\n",
    "            end\n",
    "\n",
    "            function crossover(C::TreeCrossover, a, b)\n",
    "                child = deepcopy(a)\n",
    "                crosspoint = sample(b)\n",
    "                typ = return_type(C.grammar, crosspoint.ind)\n",
    "                d_subtree = depth(crosspoint)\n",
    "                d_max = C.max_depth + 1 - d_subtree\n",
    "                if d_max > 0 && contains_returntype(child, C.grammar, typ, d_max)\n",
    "                    loc = sample(NodeLoc, child, typ, C.grammar, d_max)\n",
    "                    insert!(child, loc, deepcopy(crosspoint))\n",
    "                end\n",
    "                child\n",
    "            end\n",
    "\n",
    "            function mutate(M::TreeMutation, a)\n",
    "                child = deepcopy(a)\n",
    "                if rand() < M.p\n",
    "                    # println(\"mutate!\")\n",
    "                    loc = sample(NodeLoc, child)\n",
    "                    # @show loc\n",
    "                    typ = return_type(M.grammar, get(child, loc).ind)\n",
    "                    # @show loc\n",
    "                    subtree = rand(RuleNode, M.grammar, typ)\n",
    "                    # @show subtree\n",
    "                    child = insert!(child, loc, subtree)\n",
    "                    # @show child\n",
    "                end\n",
    "                return child\n",
    "            end\n",
    "\n",
    "            f = (node) -> begin\n",
    "                value = eval(node, grammar)\n",
    "                if isinf(value) || isnan(value)\n",
    "                    return Inf\n",
    "                end\n",
    "                Δ = abs(value - π)\n",
    "                return log(Δ) + length(node)/1e3\n",
    "            end\n",
    "\n",
    "            function genetic_algorithm(f, population, k_max, S, C, M)\n",
    "                for k in 1 : k_max\n",
    "                    parents = select(S, f.(population))\n",
    "                    children = [crossover(C,population[p[1]],population[p[2]]) for p in parents]\n",
    "                    population = [mutate(M, c) for c in children]\n",
    "                end\n",
    "                population[argmin(f.(population))]\n",
    "            end\n",
    "\n",
    "            Random.seed!(1)\n",
    "            m = 1000\n",
    "            population = [rand(RuleNode, grammar, :R) for i in 1:m]\n",
    "            k_max = 20\n",
    "            best_tree = genetic_algorithm(f, population, k_max,\n",
    "                TruncationSelection(50),\n",
    "                TreeCrossover(grammar, 10),\n",
    "                TreeMutation(grammar, 0.25))\n",
    "            expr = get_executable(best_tree, grammar)\n",
    "            tree = walk_tree(expr)\n",
    "            picture = TreeView.tikz_representation(tree)\n",
    "            picture.options = \"scale = 0.6\"\n",
    "            picture\n",
    "        end\n",
    "\n",
    "        global cur_plot = g"
   ]
  }
 ],
 "metadata": {
  "kernelspec": {
   "display_name": "Julia 1.5.1",
   "language": "julia",
   "name": "julia-1.5"
  },
  "language_info": {
   "file_extension": ".jl",
   "mimetype": "application/julia",
   "name": "julia",
   "version": "1.5.1"
  }
 },
 "nbformat": 4,
 "nbformat_minor": 2
}
