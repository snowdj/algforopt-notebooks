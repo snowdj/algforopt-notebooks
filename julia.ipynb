{
 "cells": [
  {
   "cell_type": "markdown",
   "metadata": {},
   "source": [
    "# Julia\n",
    "\n",
    "This notebook was automatically generated from the Algorithms for Optimization source code. Each cell generates a figure from the original text. While this code is not optimized for use in lectures, we provide it here to be adapted for such projects. We hope you find it useful."
   ]
  },
  {
   "cell_type": "code",
   "execution_count": null,
   "metadata": {
    "collapsed": true
   },
   "outputs": [],
   "source": [
    "include(\"support_code.jl\");"
   ]
  },
  {
   "cell_type": "code",
   "execution_count": null,
   "metadata": {
    "collapsed": true
   },
   "outputs": [],
   "source": [
    "    \t\tprintln(\"\\\\begin{tabular}{ll}\")\n",
    "    \t\tprintln(\"\\\\toprule\")\n",
    "    \t\tprintln(\"Package & Version \\\\\\\\\")\n",
    "    \t\tprintln(\"\\\\midrule\")\n",
    "    \t\topen(\"REQUIRE\") do f\n",
    "    \t\tfor l in readlines(f)\n",
    "    \t\tif startswith(l, \"julia\") || startswith(l, \"Vec\") || startswith(l, \"Weave\") || startswith(l, \"ColorSchemes\") || startswith(l, \"Optim\") || startswith(l, \"PGFPlots\") || startswith(l, \"SymEngine\") || startswith(l, \"TikzGraphs\") || length(l) < 1\n",
    "    \t\tcontinue\n",
    "    \t\tend\n",
    "    \t\tprintln(\"$l & $(Pkg.installed(l))\\\\\\\\\")\n",
    "    \t\tend\n",
    "    \t\tend\n",
    "    \t\tprintln(\"\\\\bottomrule\")\n",
    "    \t\tprintln(\"\\\\end{tabular}\")"
   ]
  }
 ],
 "metadata": {
  "kernelspec": {
   "display_name": "Julia 1.5.1",
   "language": "julia",
   "name": "julia-1.5"
  },
  "language_info": {
   "file_extension": ".jl",
   "mimetype": "application/julia",
   "name": "julia",
   "version": "1.5.1"
  }
 },
 "nbformat": 4,
 "nbformat_minor": 2
}
