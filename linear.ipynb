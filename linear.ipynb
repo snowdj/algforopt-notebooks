{
 "cells": [
  {
   "cell_type": "markdown",
   "metadata": {},
   "source": [
    "# Linear\n",
    "\n",
    "This notebook was automatically generated from the Algorithms for Optimization source code. Each cell generates a figure from the original text. While this code is not optimized for use in lectures, we provide it here to be adapted for such projects. We hope you find it useful."
   ]
  },
  {
   "cell_type": "code",
   "execution_count": null,
   "metadata": {
    "collapsed": true
   },
   "outputs": [],
   "source": [
    "include(\"support_code.jl\");"
   ]
  },
  {
   "cell_type": "code",
   "execution_count": null,
   "metadata": {
    "collapsed": true
   },
   "outputs": [],
   "source": [
    "using Vec\n",
    "using LinearAlgebra\n",
    "\n",
    "p = let\n",
    "\n",
    "    g = GroupPlot(4,1,groupStyle=\"horizontal sep=0.5cm, ylabels at=edge left\",\n",
    "    \tstyle = \"width=5cm, height=5cm, xmin=0, xmax=1, ymin=0, ymax=1, ytick=\\\\empty, xtick=\\\\empty, xlabel = \\$x_1\\$, ylabel= \\$x_2\\$, contour/labels=false, axis equal, view={0}{90}\"\n",
    "    )\n",
    "\n",
    "\n",
    "\n",
    "    c = Float64[2, 1]\n",
    "    f = x->c⋅x\n",
    "\n",
    "    A = VecE2(0.20,0.20)\n",
    "    B = A + polar(2.0, deg2rad(10))\n",
    "    C = A + polar(2.0, deg2rad(75))\n",
    "\n",
    "    arrow_lo = [0.7,0.9]\n",
    "    arrow_hi = arrow_lo - 0.6*normalize(c)\n",
    "    push!(g, Axis([Plots.Contour(f, (0,1), (0,1), contour_style=\"draw color=gray\"),\n",
    "    \t\t\t   Plots.Linear([A.x, B.x], [A.y, B.y], style=\"solid, black, mark=none, name path=A\"),\n",
    "    \t\t\t   Plots.Linear([A.x, C.x], [A.y, C.y], style=\"solid, black, mark=none, name path=B\"),\n",
    "    \t\t\t   Plots.Command(\"\\\\addplot[pastelBlue!50] fill between[of=A and B]\"),\n",
    "    \t\t\t   Plots.Scatter([A.x], [A.y], style=\"mark=*, mark size=1, mark options={draw=pastelBlue, fill=pastelBlue}\"),\n",
    "    \t\t\t   Plots.Node(L\"\\vect x^*\",A.x, A.y, style=\"below right\"),\n",
    "    \t\t\t   Plots.Command(\"\\\\draw[myarrow] (axis cs:$(arrow_lo[1]), $(arrow_lo[2])) -- (axis cs:$(arrow_hi[1]), $(arrow_hi[2]));\"),\n",
    "    \t\t\t   Plots.Node(L\"-\\vect c\", (arrow_lo[1] + arrow_hi[1])/2, (arrow_lo[2] + arrow_hi[2])/2, style=\"below right\", axis=\"axis description cs\"),\n",
    "    \t\t], title=\"One Solution\"\n",
    "    ))\n",
    "\n",
    "    r = VecE2(1,-2)\n",
    "    q = VecE2(2, 1)\n",
    "\n",
    "    A = VecE2(0.20,0.20)\n",
    "    B = A + polar(2.0, deg2rad(10))\n",
    "    C = A + polar(2.0, deg2rad(75))\n",
    "    push!(g, Axis([Plots.Contour(x->-f(x), (0,1), (0,1), contour_style=\"draw color=gray\"),\n",
    "    \t\t\t   Plots.Linear([A.x, B.x], [A.y, B.y], style=\"solid, black, mark=none, name path=A\"),\n",
    "    \t\t\t   Plots.Linear([A.x, C.x], [A.y, C.y], style=\"solid, black, mark=none, name path=B\"),\n",
    "    \t\t\t   Plots.Command(\"\\\\addplot[pastelBlue!50] fill between[of=A and B]\"),\n",
    "    \t\t\t   Plots.Command(\"\\\\draw[myarrow] (axis cs:$(arrow_hi[1]), $(arrow_hi[2])) -- (axis cs:$(arrow_lo[1]), $(arrow_lo[2]));\"),\n",
    "    \t\t\t   Plots.Node(L\"-\\vect c\", (arrow_lo[1] + arrow_hi[1])/2, (arrow_lo[2] + arrow_hi[2])/2, style=\"below right\", axis=\"axis description cs\"),\n",
    "    \t\t], title=\"Unbounded Solution\"\n",
    "    ))\n",
    "\n",
    "    A = 0.1*q - 0.15*r\n",
    "    B = 0.1*q + 0.00*r\n",
    "    C = B + polar(0.75, deg2rad(10))\n",
    "    D = A + polar(0.6, deg2rad(75))\n",
    "    push!(g, Axis([Plots.Contour(f, (0,1), (0,1), contour_style=\"draw color=gray\"),\n",
    "                   Plots.Linear([A.x, B.x, C.x, D.x, A.x],[A.y, B.y, C.y, D.y, A.y], style=\"solid, black, mark=none, name path=A\"),\n",
    "                   Plots.Linear([A.x, B.x],[A.y, B.y], style=\"solid, ultra thick, pastelBlue, mark=none, name path=B\"),\n",
    "                   Plots.Command(\"\\\\addplot[pastelBlue!50] fill between[of=A and B]\"),\n",
    "    \t\t\t   Plots.Node(L\"\\vect x^*\",(A.x+B.x)/2, (A.y+B.y)/2, style=\"above right\"),\n",
    "    \t\t\t   Plots.Command(\"\\\\draw[myarrow] (axis cs:$(arrow_lo[1]), $(arrow_lo[2])) -- (axis cs:$(arrow_hi[1]), $(arrow_hi[2]));\"),\n",
    "    \t\t\t   Plots.Node(L\"-\\vect c\", (arrow_lo[1] + arrow_hi[1])/2, (arrow_lo[2] + arrow_hi[2])/2 + 0.05, style=\"below right\", axis=\"axis description cs\"),\n",
    "    \t\t], title=\"Infinite Solutions\"\n",
    "    ))\n",
    "\n",
    "    push!(g, Axis([Plots.Contour(f, (0,1), (0,1), contour_style=\"draw color=gray\"),\n",
    "    \t\t\t   Plots.Command(\"\\\\draw[myarrow] (axis cs:$(arrow_lo[1]), $(arrow_lo[2])) -- (axis cs:$(arrow_hi[1]), $(arrow_hi[2]));\"),\n",
    "    \t\t\t   Plots.Node(L\"-\\vect c\", (arrow_lo[1] + arrow_hi[1])/2, (arrow_lo[2] + arrow_hi[2])/2, style=\"below right\", axis=\"axis description cs\"),\n",
    "    \t\t], title=\"No Solution\"\n",
    "    ))\n",
    "\n",
    "    g\n",
    "end\n",
    "\n",
    "plot(p)"
   ]
  },
  {
   "cell_type": "code",
   "execution_count": null,
   "metadata": {
    "collapsed": true
   },
   "outputs": [],
   "source": [
    "p = let\n",
    "\tAxis(\n",
    "\t\t[Plots.Linear([0,1], [-1,0], style=\"solid, black, mark=none\"),\n",
    "\t\t Plots.Linear([1,4], [0,3], style=\"solid, thick, pastelBlue, mark=none\"),\n",
    "\t\t ],\n",
    "\t\txlabel=L\"x\", ylabel=L\"s\",\n",
    "\t\txmin=0, xmax=4.5, ymin=-1.25, ymax=3.25, width=\"1.2*9cm\",\n",
    "\t\tstyle=\"axis lines=center\",\n",
    "\t)\n",
    "end\n",
    "plot(p)"
   ]
  }
 ],
 "metadata": {
  "kernelspec": {
   "display_name": "Julia 1.5.1",
   "language": "julia",
   "name": "julia-1.5"
  },
  "language_info": {
   "file_extension": ".jl",
   "mimetype": "application/julia",
   "name": "julia",
   "version": "1.5.1"
  }
 },
 "nbformat": 4,
 "nbformat_minor": 2
}
