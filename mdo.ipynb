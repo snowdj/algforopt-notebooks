{
 "cells": [
  {
   "cell_type": "markdown",
   "metadata": {},
   "source": [
    "# Mdo\n",
    "\n",
    "This notebook was automatically generated from the Algorithms for Optimization source code. Each cell generates a figure from the original text. While this code is not optimized for use in lectures, we provide it here to be adapted for such projects. We hope you find it useful."
   ]
  },
  {
   "cell_type": "code",
   "execution_count": null,
   "metadata": {
    "collapsed": true
   },
   "outputs": [],
   "source": [
    "include(\"support_code.jl\");"
   ]
  },
  {
   "cell_type": "code",
   "execution_count": null,
   "metadata": {
    "collapsed": true
   },
   "outputs": [],
   "source": [
    "p = let\n",
    "\n",
    "\tg = GroupPlot(1, 2, groupStyle=\"vertical sep=1em, xlabels at=edge bottom, ylabels at=edge left, xticklabels at=edge bottom, yticklabels at=edge bottom\", style=\"width=10cm, height=3.75cm, xlabel=iteration\")\n",
    "\n",
    "\tfunction F1(A)\n",
    "\t\tA[\"y1\"] = A[\"y2\"] - A[\"x\"]\n",
    "\t\treturn A\n",
    "\tend\n",
    "\tfunction F2(A)\n",
    "\t\tA[\"y2\"] = sin(A[\"y1\"] + A[\"y3\"])\n",
    "\t\treturn A\n",
    "\tend\n",
    "\tfunction F3(A)\n",
    "\t    A[\"y3\"] = cos(A[\"x\"] + A[\"y2\"] + A[\"y1\"])\n",
    "\t    return A\n",
    "\tend\n",
    "\n",
    "\t_K = 20\n",
    "\tarr_t = collect(0:_K)\n",
    "\n",
    "\tfunction get_plot(Fs, add_legend)\n",
    "\n",
    "\t\tA = Dict{String,Float64}(\"x\"=>1.0, \"y1\"=>1.0, \"y2\"=>1.0, \"y3\"=>1.0)\n",
    "\n",
    "\t\tarr_y1 = Array{Float64}(undef, _K+1)\n",
    "\t\tarr_y2 = Array{Float64}(undef, _K+1)\n",
    "\t\tarr_y3 = Array{Float64}(undef, _K+1)\n",
    "\t\tarr_y1[1] = A[\"y1\"]\n",
    "\t\tarr_y2[1] = A[\"y2\"]\n",
    "\t\tarr_y3[1] = A[\"y3\"]\n",
    "\n",
    "\t\tfor i in 1 : _K\n",
    "\t\t\tfor F in Fs\n",
    "\t\t\t\tF(A)\n",
    "\t\t\tend\n",
    "\t\t\tarr_y1[i+1] = A[\"y1\"]\n",
    "\t\t\tarr_y2[i+1] = A[\"y2\"]\n",
    "\t\t\tarr_y3[i+1] = A[\"y3\"]\n",
    "\t\tend\n",
    "\t\tp1 = Plots.Linear(arr_t, arr_y1, style=\"pastelPurple, solid, mark=*, mark size=1, mark options={draw=pastelPurple, fill=pastelPurple}\")\n",
    "\t\tp2 = Plots.Linear(arr_t, arr_y2, style=\"pastelBlue, solid, mark=*, mark size=1, mark options={draw=pastelBlue, fill=pastelBlue}\")\n",
    "\t\tp3 = Plots.Linear(arr_t, arr_y3, style=\"pastelSeaGreen, solid, mark=*, mark size=1, mark options={draw=pastelSeaGreen, fill=pastelSeaGreen}\")\n",
    "\t\tif add_legend\n",
    "\t\t\tp1.legendentry = L\"y^{(1)}\"\n",
    "\t\t\tp2.legendentry = L\"y^{(2)}\"\n",
    "\t\t\tp3.legendentry = L\"y^{(3)}\"\n",
    "\t\tend\n",
    "\n",
    "\n",
    "\t\treturn Axis([p1, p2, p3], style= add_legend ? \"legend pos=outer north east\" : nothing)\n",
    "\tend\n",
    "\n",
    "\tpush!(g, get_plot([F1, F2, F3], true))\n",
    "\tpush!(g, get_plot([F1, F3, F2], false))\n",
    "\tg\n",
    "end\n",
    "plot(p)"
   ]
  }
 ],
 "metadata": {
  "kernelspec": {
   "display_name": "Julia 1.5.1",
   "language": "julia",
   "name": "julia-1.5"
  },
  "language_info": {
   "file_extension": ".jl",
   "mimetype": "application/julia",
   "name": "julia",
   "version": "1.5.1"
  }
 },
 "nbformat": 4,
 "nbformat_minor": 2
}
